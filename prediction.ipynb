{
 "cells": [
  {
   "cell_type": "code",
   "execution_count": 4,
   "metadata": {},
   "outputs": [],
   "source": [
    "def custom_accuracy(y_test,y_pred,thresold):\n",
    "    right = 0\n",
    "\n",
    "    l = len(y_pred)\n",
    "    for i in range(0,l):\n",
    "        if(abs(y_pred[i]-y_test[i]) <= thresold):\n",
    "            right += 1\n",
    "    return ((right/l)*100)"
   ]
  },
  {
   "cell_type": "code",
   "execution_count": 5,
   "metadata": {},
   "outputs": [
    {
     "name": "stdout",
     "output_type": "stream",
     "text": [
      "         mid        date                                              venue  \\\n",
      "0          1  2006-06-13               Civil Service Cricket Club, Stormont   \n",
      "1          1  2006-06-13               Civil Service Cricket Club, Stormont   \n",
      "2          1  2006-06-13               Civil Service Cricket Club, Stormont   \n",
      "3          1  2006-06-13               Civil Service Cricket Club, Stormont   \n",
      "4          1  2006-06-13               Civil Service Cricket Club, Stormont   \n",
      "5          1  2006-06-13               Civil Service Cricket Club, Stormont   \n",
      "6          1  2006-06-13               Civil Service Cricket Club, Stormont   \n",
      "7          1  2006-06-13               Civil Service Cricket Club, Stormont   \n",
      "8          1  2006-06-13               Civil Service Cricket Club, Stormont   \n",
      "9          1  2006-06-13               Civil Service Cricket Club, Stormont   \n",
      "10         1  2006-06-13               Civil Service Cricket Club, Stormont   \n",
      "11         1  2006-06-13               Civil Service Cricket Club, Stormont   \n",
      "12         1  2006-06-13               Civil Service Cricket Club, Stormont   \n",
      "13         1  2006-06-13               Civil Service Cricket Club, Stormont   \n",
      "14         1  2006-06-13               Civil Service Cricket Club, Stormont   \n",
      "15         1  2006-06-13               Civil Service Cricket Club, Stormont   \n",
      "16         1  2006-06-13               Civil Service Cricket Club, Stormont   \n",
      "17         1  2006-06-13               Civil Service Cricket Club, Stormont   \n",
      "18         1  2006-06-13               Civil Service Cricket Club, Stormont   \n",
      "19         1  2006-06-13               Civil Service Cricket Club, Stormont   \n",
      "20         1  2006-06-13               Civil Service Cricket Club, Stormont   \n",
      "21         1  2006-06-13               Civil Service Cricket Club, Stormont   \n",
      "22         1  2006-06-13               Civil Service Cricket Club, Stormont   \n",
      "23         1  2006-06-13               Civil Service Cricket Club, Stormont   \n",
      "24         1  2006-06-13               Civil Service Cricket Club, Stormont   \n",
      "25         1  2006-06-13               Civil Service Cricket Club, Stormont   \n",
      "26         1  2006-06-13               Civil Service Cricket Club, Stormont   \n",
      "27         1  2006-06-13               Civil Service Cricket Club, Stormont   \n",
      "28         1  2006-06-13               Civil Service Cricket Club, Stormont   \n",
      "29         1  2006-06-13               Civil Service Cricket Club, Stormont   \n",
      "...      ...         ...                                                ...   \n",
      "350869  1188  2017-07-10  Mahinda Rajapaksa International Cricket Stadiu...   \n",
      "350870  1188  2017-07-10  Mahinda Rajapaksa International Cricket Stadiu...   \n",
      "350871  1188  2017-07-10  Mahinda Rajapaksa International Cricket Stadiu...   \n",
      "350872  1188  2017-07-10  Mahinda Rajapaksa International Cricket Stadiu...   \n",
      "350873  1188  2017-07-10  Mahinda Rajapaksa International Cricket Stadiu...   \n",
      "350874  1188  2017-07-10  Mahinda Rajapaksa International Cricket Stadiu...   \n",
      "350875  1188  2017-07-10  Mahinda Rajapaksa International Cricket Stadiu...   \n",
      "350876  1188  2017-07-10  Mahinda Rajapaksa International Cricket Stadiu...   \n",
      "350877  1188  2017-07-10  Mahinda Rajapaksa International Cricket Stadiu...   \n",
      "350878  1188  2017-07-10  Mahinda Rajapaksa International Cricket Stadiu...   \n",
      "350879  1188  2017-07-10  Mahinda Rajapaksa International Cricket Stadiu...   \n",
      "350880  1188  2017-07-10  Mahinda Rajapaksa International Cricket Stadiu...   \n",
      "350881  1188  2017-07-10  Mahinda Rajapaksa International Cricket Stadiu...   \n",
      "350882  1188  2017-07-10  Mahinda Rajapaksa International Cricket Stadiu...   \n",
      "350883  1188  2017-07-10  Mahinda Rajapaksa International Cricket Stadiu...   \n",
      "350884  1188  2017-07-10  Mahinda Rajapaksa International Cricket Stadiu...   \n",
      "350885  1188  2017-07-10  Mahinda Rajapaksa International Cricket Stadiu...   \n",
      "350886  1188  2017-07-10  Mahinda Rajapaksa International Cricket Stadiu...   \n",
      "350887  1188  2017-07-10  Mahinda Rajapaksa International Cricket Stadiu...   \n",
      "350888  1188  2017-07-10  Mahinda Rajapaksa International Cricket Stadiu...   \n",
      "350889  1188  2017-07-10  Mahinda Rajapaksa International Cricket Stadiu...   \n",
      "350890  1188  2017-07-10  Mahinda Rajapaksa International Cricket Stadiu...   \n",
      "350891  1188  2017-07-10  Mahinda Rajapaksa International Cricket Stadiu...   \n",
      "350892  1188  2017-07-10  Mahinda Rajapaksa International Cricket Stadiu...   \n",
      "350893  1188  2017-07-10  Mahinda Rajapaksa International Cricket Stadiu...   \n",
      "350894  1188  2017-07-10  Mahinda Rajapaksa International Cricket Stadiu...   \n",
      "350895  1188  2017-07-10  Mahinda Rajapaksa International Cricket Stadiu...   \n",
      "350896  1188  2017-07-10  Mahinda Rajapaksa International Cricket Stadiu...   \n",
      "350897  1188  2017-07-10  Mahinda Rajapaksa International Cricket Stadiu...   \n",
      "350898  1188  2017-07-10  Mahinda Rajapaksa International Cricket Stadiu...   \n",
      "\n",
      "         bat_team bowl_team         batsman            bowler  runs  wickets  \\\n",
      "0         England   Ireland  ME Trescothick       DT Johnston     0        0   \n",
      "1         England   Ireland  ME Trescothick       DT Johnston     0        0   \n",
      "2         England   Ireland  ME Trescothick       DT Johnston     4        0   \n",
      "3         England   Ireland  ME Trescothick       DT Johnston     6        0   \n",
      "4         England   Ireland  ME Trescothick       DT Johnston     6        0   \n",
      "5         England   Ireland  ME Trescothick       DT Johnston     6        0   \n",
      "6         England   Ireland        EC Joyce  D Langford-Smith     6        0   \n",
      "7         England   Ireland        EC Joyce  D Langford-Smith     6        0   \n",
      "8         England   Ireland        EC Joyce  D Langford-Smith     6        0   \n",
      "9         England   Ireland        EC Joyce  D Langford-Smith     7        0   \n",
      "10        England   Ireland        EC Joyce  D Langford-Smith     8        0   \n",
      "11        England   Ireland  ME Trescothick  D Langford-Smith     8        0   \n",
      "12        England   Ireland  ME Trescothick  D Langford-Smith     9        0   \n",
      "13        England   Ireland  ME Trescothick       DT Johnston    10        0   \n",
      "14        England   Ireland  ME Trescothick       DT Johnston    10        0   \n",
      "15        England   Ireland  ME Trescothick       DT Johnston    11        0   \n",
      "16        England   Ireland        EC Joyce       DT Johnston    11        0   \n",
      "17        England   Ireland        EC Joyce       DT Johnston    12        0   \n",
      "18        England   Ireland  ME Trescothick       DT Johnston    12        0   \n",
      "19        England   Ireland  ME Trescothick       DT Johnston    16        0   \n",
      "20        England   Ireland        EC Joyce  D Langford-Smith    17        0   \n",
      "21        England   Ireland        EC Joyce  D Langford-Smith    17        0   \n",
      "22        England   Ireland        EC Joyce  D Langford-Smith    21        0   \n",
      "23        England   Ireland        EC Joyce  D Langford-Smith    21        0   \n",
      "24        England   Ireland        EC Joyce  D Langford-Smith    21        0   \n",
      "25        England   Ireland        EC Joyce  D Langford-Smith    21        0   \n",
      "26        England   Ireland        EC Joyce  D Langford-Smith    21        0   \n",
      "27        England   Ireland  ME Trescothick       DT Johnston    25        0   \n",
      "28        England   Ireland  ME Trescothick       DT Johnston    29        0   \n",
      "29        England   Ireland  ME Trescothick       DT Johnston    32        0   \n",
      "...           ...       ...             ...               ...   ...      ...   \n",
      "350869  Sri Lanka  Zimbabwe    PVD Chameera        TL Chatara   166        8   \n",
      "350870  Sri Lanka  Zimbabwe    PVD Chameera        TL Chatara   167        8   \n",
      "350871  Sri Lanka  Zimbabwe   DAS Gunaratne        TL Chatara   168        8   \n",
      "350872  Sri Lanka  Zimbabwe    PVD Chameera        TL Chatara   168        8   \n",
      "350873  Sri Lanka  Zimbabwe    PVD Chameera        TL Chatara   168        8   \n",
      "350874  Sri Lanka  Zimbabwe    PVD Chameera        TL Chatara   169        8   \n",
      "350875  Sri Lanka  Zimbabwe    PVD Chameera          CB Mpofu   170        8   \n",
      "350876  Sri Lanka  Zimbabwe   DAS Gunaratne          CB Mpofu   171        8   \n",
      "350877  Sri Lanka  Zimbabwe    PVD Chameera          CB Mpofu   171        8   \n",
      "350878  Sri Lanka  Zimbabwe    PVD Chameera          CB Mpofu   171        8   \n",
      "350879  Sri Lanka  Zimbabwe    PVD Chameera          CB Mpofu   172        8   \n",
      "350880  Sri Lanka  Zimbabwe   DAS Gunaratne          CB Mpofu   176        8   \n",
      "350881  Sri Lanka  Zimbabwe    PVD Chameera        TL Chatara   177        8   \n",
      "350882  Sri Lanka  Zimbabwe   DAS Gunaratne        TL Chatara   179        8   \n",
      "350883  Sri Lanka  Zimbabwe   DAS Gunaratne        TL Chatara   180        8   \n",
      "350884  Sri Lanka  Zimbabwe    PVD Chameera        TL Chatara   181        8   \n",
      "350885  Sri Lanka  Zimbabwe   DAS Gunaratne        TL Chatara   182        8   \n",
      "350886  Sri Lanka  Zimbabwe    PVD Chameera        TL Chatara   183        8   \n",
      "350887  Sri Lanka  Zimbabwe    PVD Chameera          CB Mpofu   183        8   \n",
      "350888  Sri Lanka  Zimbabwe    PVD Chameera          CB Mpofu   187        8   \n",
      "350889  Sri Lanka  Zimbabwe    PVD Chameera          CB Mpofu   187        8   \n",
      "350890  Sri Lanka  Zimbabwe    PVD Chameera          CB Mpofu   188        8   \n",
      "350891  Sri Lanka  Zimbabwe   DAS Gunaratne          CB Mpofu   192        8   \n",
      "350892  Sri Lanka  Zimbabwe   DAS Gunaratne          CB Mpofu   193        8   \n",
      "350893  Sri Lanka  Zimbabwe   DAS Gunaratne        TL Chatara   197        8   \n",
      "350894  Sri Lanka  Zimbabwe   DAS Gunaratne        TL Chatara   201        8   \n",
      "350895  Sri Lanka  Zimbabwe   DAS Gunaratne        TL Chatara   201        8   \n",
      "350896  Sri Lanka  Zimbabwe   DAS Gunaratne        TL Chatara   201        8   \n",
      "350897  Sri Lanka  Zimbabwe   DAS Gunaratne        TL Chatara   202        8   \n",
      "350898  Sri Lanka  Zimbabwe    PVD Chameera        TL Chatara   203        8   \n",
      "\n",
      "        overs  runs_last_5  wickets_last_5  striker  non-striker  total  \n",
      "0         0.1            0               0        0            0    301  \n",
      "1         0.2            0               0        0            0    301  \n",
      "2         0.3            4               0        0            0    301  \n",
      "3         0.4            6               0        0            0    301  \n",
      "4         0.5            6               0        0            0    301  \n",
      "5         0.6            6               0        0            0    301  \n",
      "6         1.1            6               0        0            0    301  \n",
      "7         1.2            6               0        0            0    301  \n",
      "8         1.3            6               0        0            0    301  \n",
      "9         1.3            7               0        0            0    301  \n",
      "10        1.4            8               0        1            0    301  \n",
      "11        1.5            8               0        1            0    301  \n",
      "12        1.6            9               0        1            1    301  \n",
      "13        2.0           10               0        1            1    301  \n",
      "14        2.1           10               0        1            1    301  \n",
      "15        2.2           11               0        1            1    301  \n",
      "16        2.3           11               0        1            1    301  \n",
      "17        2.4           12               0        2            1    301  \n",
      "18        2.5           12               0        2            1    301  \n",
      "19        2.6           16               0        5            2    301  \n",
      "20        3.0           17               0        5            2    301  \n",
      "21        3.1           17               0        5            2    301  \n",
      "22        3.2           21               0        6            5    301  \n",
      "23        3.3           21               0        6            5    301  \n",
      "24        3.4           21               0        6            5    301  \n",
      "25        3.5           21               0        6            5    301  \n",
      "26        3.6           21               0        6            5    301  \n",
      "27        4.1           25               0        9            6    301  \n",
      "28        4.2           29               0       13            6    301  \n",
      "29        4.3           32               0       16            6    301  \n",
      "...       ...          ...             ...      ...          ...    ...  \n",
      "350869   45.1           15               1       36            6    203  \n",
      "350870   45.2           15               1       36            7    203  \n",
      "350871   45.3           16               1       37            7    203  \n",
      "350872   45.4           16               1       37            7    203  \n",
      "350873   45.5           15               1       37            7    203  \n",
      "350874   45.6           16               0       37            8    203  \n",
      "350875   46.1           17               0       37            9    203  \n",
      "350876   46.2           18               0       38            9    203  \n",
      "350877   46.3           17               0       38            9    203  \n",
      "350878   46.4           16               0       38            9    203  \n",
      "350879   46.5           17               0       38           10    203  \n",
      "350880   46.6           21               0       42           10    203  \n",
      "350881   47.1           22               0       42           11    203  \n",
      "350882   47.2           24               0       44           11    203  \n",
      "350883   47.3           24               0       45           11    203  \n",
      "350884   47.4           25               0       45           12    203  \n",
      "350885   47.5           25               0       46           12    203  \n",
      "350886   47.6           26               0       46           13    203  \n",
      "350887   48.1           26               0       46           13    203  \n",
      "350888   48.2           30               0       46           17    203  \n",
      "350889   48.3           29               0       46           17    203  \n",
      "350890   48.4           29               0       46           18    203  \n",
      "350891   48.5           32               0       50           18    203  \n",
      "350892   48.6           32               0       51           18    203  \n",
      "350893   49.1           35               0       55           18    203  \n",
      "350894   49.2           39               0       59           18    203  \n",
      "350895   49.3           39               0       59           18    203  \n",
      "350896   49.4           38               0       59           18    203  \n",
      "350897   49.5           38               0       59           18    203  \n",
      "350898   49.6           38               0       59           18    203  \n",
      "\n",
      "[350899 rows x 15 columns]\n"
     ]
    }
   ],
   "source": [
    "import pandas as pd\n",
    "# Importing the dataset\n",
    "dataset = pd.read_csv('D:/sample/CricketScorePredictor-master/CricketScorePredictor-master/data/odi.csv')\n",
    "X = dataset.iloc[:,[7,8,9,12,13]].values\n",
    "y = dataset.iloc[:, 14].values\n",
    "print(dataset)"
   ]
  },
  {
   "cell_type": "code",
   "execution_count": 6,
   "metadata": {},
   "outputs": [],
   "source": [
    "# Splitting the dataset into the Training set and Test set\n",
    "from sklearn.model_selection import train_test_split\n",
    "X_train, X_test, y_train, y_test = train_test_split(X, y, test_size = 0.25, random_state = 0)\n"
   ]
  },
  {
   "cell_type": "code",
   "execution_count": 7,
   "metadata": {},
   "outputs": [],
   "source": [
    "# Feature Scaling\n",
    "from sklearn.preprocessing import StandardScaler\n",
    "sc = StandardScaler()\n",
    "X_train = sc.fit_transform(X_train)\n",
    "X_test = sc.transform(X_test)\n"
   ]
  },
  {
   "cell_type": "code",
   "execution_count": 8,
   "metadata": {},
   "outputs": [
    {
     "data": {
      "text/plain": [
       "LinearRegression(copy_X=True, fit_intercept=True, n_jobs=None, normalize=False)"
      ]
     },
     "execution_count": 8,
     "metadata": {},
     "output_type": "execute_result"
    }
   ],
   "source": [
    "# Training the dataset\n",
    "from sklearn.linear_model import LinearRegression\n",
    "lin = LinearRegression()\n",
    "lin.fit(X_train,y_train)"
   ]
  },
  {
   "cell_type": "code",
   "execution_count": 9,
   "metadata": {},
   "outputs": [
    {
     "name": "stdout",
     "output_type": "stream",
     "text": [
      "R square value: 52.737657811129445\n",
      "Custom accuracy: 43.354801937874036\n"
     ]
    }
   ],
   "source": [
    "# Testing the dataset on trained model\n",
    "y_pred = lin.predict(X_test)\n",
    "score = lin.score(X_test,y_test)*100\n",
    "print(\"R square value:\" , score)\n",
    "print(\"Custom accuracy:\" , custom_accuracy(y_test,y_pred,20))\n"
   ]
  },
  {
   "cell_type": "code",
   "execution_count": 10,
   "metadata": {},
   "outputs": [
    {
     "name": "stdout",
     "output_type": "stream",
     "text": [
      "Prediction score: [297.15857585]\n"
     ]
    }
   ],
   "source": [
    "# Testing with a custom input\n",
    "import numpy as np\n",
    "new_prediction = lin.predict(sc.transform(np.array([[102,2,13,50,50]])))\n",
    "print(\"Prediction score:\" , new_prediction)\n"
   ]
  },
  {
   "cell_type": "code",
   "execution_count": 12,
   "metadata": {},
   "outputs": [
    {
     "data": {
      "text/plain": [
       "RandomForestRegressor(bootstrap=True, criterion='mse', max_depth=None,\n",
       "                      max_features=None, max_leaf_nodes=None,\n",
       "                      min_impurity_decrease=0.0, min_impurity_split=None,\n",
       "                      min_samples_leaf=1, min_samples_split=2,\n",
       "                      min_weight_fraction_leaf=0.0, n_estimators=100,\n",
       "                      n_jobs=None, oob_score=False, random_state=None,\n",
       "                      verbose=0, warm_start=False)"
      ]
     },
     "execution_count": 12,
     "metadata": {},
     "output_type": "execute_result"
    }
   ],
   "source": [
    "# Training the dataset for randomforest\n",
    "from sklearn.ensemble import RandomForestRegressor\n",
    "reg_ren = RandomForestRegressor(n_estimators=100,max_features=None)\n",
    "reg_ren.fit(X_train,y_train)"
   ]
  },
  {
   "cell_type": "code",
   "execution_count": 13,
   "metadata": {},
   "outputs": [
    {
     "name": "stdout",
     "output_type": "stream",
     "text": [
      "R square value: 79.55771805224094\n",
      "Custom accuracy: 77.01795383300085\n"
     ]
    }
   ],
   "source": [
    "# Testing the dataset on trained model\n",
    "y_pred = reg_ren.predict(X_test)\n",
    "score = reg_ren.score(X_test,y_test)*100\n",
    "print(\"R square value:\" , score)\n",
    "print(\"Custom accuracy:\" , custom_accuracy(y_test,y_pred,20))"
   ]
  },
  {
   "cell_type": "code",
   "execution_count": 14,
   "metadata": {},
   "outputs": [
    {
     "name": "stdout",
     "output_type": "stream",
     "text": [
      "Prediction score: [308.73]\n"
     ]
    }
   ],
   "source": [
    "# Testing with a custom input\n",
    "import numpy as np\n",
    "new_prediction = reg_ren.predict(sc.transform(np.array([[100,0,13,50,50]])))\n",
    "print(\"Prediction score:\" , new_prediction)"
   ]
  },
  {
   "cell_type": "code",
   "execution_count": null,
   "metadata": {},
   "outputs": [],
   "source": []
  },
  {
   "cell_type": "code",
   "execution_count": null,
   "metadata": {},
   "outputs": [],
   "source": []
  },
  {
   "cell_type": "code",
   "execution_count": null,
   "metadata": {},
   "outputs": [],
   "source": []
  },
  {
   "cell_type": "code",
   "execution_count": null,
   "metadata": {},
   "outputs": [],
   "source": []
  },
  {
   "cell_type": "code",
   "execution_count": null,
   "metadata": {},
   "outputs": [],
   "source": []
  }
 ],
 "metadata": {
  "kernelspec": {
   "display_name": "Python 3",
   "language": "python",
   "name": "python3"
  },
  "language_info": {
   "codemirror_mode": {
    "name": "ipython",
    "version": 3
   },
   "file_extension": ".py",
   "mimetype": "text/x-python",
   "name": "python",
   "nbconvert_exporter": "python",
   "pygments_lexer": "ipython3",
   "version": "3.7.3"
  }
 },
 "nbformat": 4,
 "nbformat_minor": 2
}
